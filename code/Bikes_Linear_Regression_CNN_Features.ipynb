{
 "cells": [
  {
   "cell_type": "markdown",
   "metadata": {},
   "source": [
    "## Linear Regression with CNN Features\n",
    "\n",
    "This notebook contains our linear regression model for price prediction on the Bikes dataset.\n",
    "\n",
    "We generate CNN features using the VGG-16 network, and reduce their dimensionality using PCA.\n",
    "\n",
    "We then train linear regression on the training set, and report evaluation metrics on the test set."
   ]
  },
  {
   "cell_type": "markdown",
   "metadata": {},
   "source": [
    "### Imports"
   ]
  },
  {
   "cell_type": "code",
   "execution_count": 1,
   "metadata": {},
   "outputs": [
    {
     "name": "stderr",
     "output_type": "stream",
     "text": [
      "Using TensorFlow backend.\n"
     ]
    }
   ],
   "source": [
    "import tensorflow as tf\n",
    "\n",
    "import yaml\n",
    "\n",
    "from sklearn import datasets, linear_model\n",
    "from sklearn.metrics import mean_absolute_error, mean_squared_error, r2_score\n",
    "from sklearn.decomposition import PCA\n",
    "\n",
    "import csv\n",
    "\n",
    "from keras.applications.vgg16 import VGG16\n",
    "from keras.preprocessing import image\n",
    "from keras.applications.vgg16 import preprocess_input\n",
    "import numpy as np\n",
    "import os\n",
    "\n",
    "from matplotlib.image import imread\n",
    "import matplotlib.pyplot as plt\n",
    "%matplotlib inline"
   ]
  },
  {
   "cell_type": "markdown",
   "metadata": {},
   "source": [
    "### Extract and Save Features\n",
    "\n",
    "We run the dataset through VGG-16, extracting the activations of the last feature layer as our high-dimensional feature vectors. We then reduce the dimensionality using PCA."
   ]
  },
  {
   "cell_type": "code",
   "execution_count": 2,
   "metadata": {},
   "outputs": [
    {
     "name": "stdout",
     "output_type": "stream",
     "text": [
      "0\n",
      "1000\n",
      "2000\n",
      "3000\n",
      "4000\n",
      "5000\n",
      "6000\n",
      "7000\n",
      "8000\n",
      "9000\n",
      "10000\n",
      "11000\n",
      "12000\n",
      "13000\n",
      "14000\n",
      "15000\n",
      "16000\n",
      "17000\n",
      "18000\n",
      "19000\n",
      "20000\n",
      "21000\n",
      "(21843, 25088)\n",
      "Wall time: 4min 30s\n"
     ]
    }
   ],
   "source": [
    "%%time\n",
    "data_path = \"../datasets/bikes_im/\"\n",
    "\n",
    "model = VGG16(weights='imagenet', include_top=False)\n",
    "\n",
    "cnn_feats = np.zeros((21843, 512 * 7 * 7))\n",
    "\n",
    "with open(\"../datasets/bikes_filtered.csv\", \"r\") as file:\n",
    "    i = -1\n",
    "    for data_point in file:\n",
    "        i += 1\n",
    "        index, name, msrp = data_point.split(\",\")\n",
    "        img_path = data_path + index + '.jpg'\n",
    "        img = image.load_img(img_path, target_size=(224, 224))\n",
    "        x = image.img_to_array(img)\n",
    "        x = np.expand_dims(x, axis=0)\n",
    "        x = preprocess_input(x)\n",
    "        features = model.predict(x)\n",
    "\n",
    "        # Reshape features into 2D tensor\n",
    "        reshaped_features = features.reshape(1, 512*7*7)\n",
    "        cnn_feats[i, :] = reshaped_features\n",
    "        \n",
    "        if i % 1000 == 0:\n",
    "            print(i)\n",
    "\n",
    "print(cnn_feats.shape)\n",
    "\n",
    "# reduce dimensionality using principal components analysis (PCA)\n",
    "\n",
    "pca = PCA(n_components=256)\n",
    "pca.fit(cnn_feats)\n",
    "cnn_feats_compressed = pca.transform(cnn_feats)\n",
    "\n",
    "np.save(\"linreg_cnn_pca_components\", pca.components_)\n",
    "np.save(\"linreg_cnn_pca_features\", cnn_feats_compressed)"
   ]
  },
  {
   "cell_type": "markdown",
   "metadata": {},
   "source": [
    "### Linear Regression using CNN Features\n",
    "\n",
    "We train linear regression on the PCA-processed CNN features on our training split, then evaluate on the test split.\n",
    "\n",
    "We report three different metrics: MSE (mean squared error), MAE (mean absolute error), and R^2 (coefficient of determination)"
   ]
  },
  {
   "cell_type": "code",
   "execution_count": 3,
   "metadata": {},
   "outputs": [],
   "source": [
    "im_inds = []\n",
    "im_names = []\n",
    "im_prices = np.zeros(21843)\n",
    "with open('../datasets/bikes_filtered.csv', 'r') as f:\n",
    "        datareader = csv.reader(f)\n",
    "        for i, line in enumerate(datareader):\n",
    "            im_inds.append(line[0])\n",
    "            im_names.append(line[1])\n",
    "            im_prices[i] = int(line[2])"
   ]
  },
  {
   "cell_type": "code",
   "execution_count": 4,
   "metadata": {},
   "outputs": [
    {
     "name": "stdout",
     "output_type": "stream",
     "text": [
      "Mean squared error: 1111839.08\n",
      "Mean absolute error: 714.02\n",
      "Coefficient of determination: 0.66\n"
     ]
    }
   ],
   "source": [
    "# Load training and eval data\n",
    "cnn_feats_compressed = np.load(\"linreg_cnn_pca_features.npy\")\n",
    "\n",
    "train_inds = np.load('bikes_train_indices.npy')\n",
    "test_inds = np.load('bikes_test_indices.npy')\n",
    "\n",
    "train_data = cnn_feats_compressed[train_inds]\n",
    "train_labels = im_prices[train_inds]\n",
    "\n",
    "test_data = cnn_feats_compressed[test_inds]\n",
    "test_labels = im_prices[test_inds]\n",
    "\n",
    "\n",
    "regr = linear_model.LinearRegression()\n",
    "\n",
    "regr.fit(train_data, train_labels)\n",
    "\n",
    "predicted = regr.predict(test_data)\n",
    "\n",
    "# Metrics\n",
    "MSE = mean_squared_error(test_labels, predicted)\n",
    "MAE = mean_absolute_error(test_labels, predicted)\n",
    "R2 = r2_score(test_labels, predicted)\n",
    "\n",
    "print(\"Mean squared error: %.2f\" % MSE)\n",
    "print(\"Mean absolute error: %.2f\" % MAE)\n",
    "print('Coefficient of determination: %.2f' % R2)"
   ]
  },
  {
   "cell_type": "markdown",
   "metadata": {},
   "source": [
    "### Error plot\n",
    "\n",
    "Plot the per-example absolute error."
   ]
  },
  {
   "cell_type": "code",
   "execution_count": 5,
   "metadata": {},
   "outputs": [],
   "source": [
    "error = []\n",
    "for a,b in zip(test_labels, predicted):\n",
    "    error.append((np.abs(a - b), a, b))\n",
    "error.sort(key=lambda x: x[0])\n",
    "\n",
    "error_x = range(len(error))\n",
    "error_val = []\n",
    "error_y_label = []\n",
    "error_y_pred = []\n",
    "for e in error:\n",
    "    error_val.append(e[0])\n",
    "    error_y_label.append(e[1])\n",
    "    error_y_pred.append(e[2])"
   ]
  },
  {
   "cell_type": "code",
   "execution_count": 6,
   "metadata": {},
   "outputs": [
    {
     "data": {
      "text/plain": [
       "Text(0,0.5,'Absolute Error')"
      ]
     },
     "execution_count": 6,
     "metadata": {},
     "output_type": "execute_result"
    },
    {
     "data": {
      "image/png": "[encoded data removed]",
      "text/plain": [
       "<matplotlib.figure.Figure at 0x1f1f36e9ac8>"
      ]
     },
     "metadata": {},
     "output_type": "display_data"
    }
   ],
   "source": [
    "plt.scatter(error_x, error_val,  color='blue', s=0.01)\n",
    "plt.xlabel('Test Examples')\n",
    "plt.ylabel('Absolute Error')"
   ]
  },
  {
   "cell_type": "code",
   "execution_count": null,
   "metadata": {},
   "outputs": [],
   "source": []
  }
 ],
 "metadata": {
  "kernelspec": {
   "display_name": "Python 3",
   "language": "python",
   "name": "python3"
  },
  "language_info": {
   "codemirror_mode": {
    "name": "ipython",
    "version": 3
   },
   "file_extension": ".py",
   "mimetype": "text/x-python",
   "name": "python",
   "nbconvert_exporter": "python",
   "pygments_lexer": "ipython3",
   "version": "3.5.4"
  }
 },
 "nbformat": 4,
 "nbformat_minor": 2
}
