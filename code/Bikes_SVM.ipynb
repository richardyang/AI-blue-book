{
 "cells": [
  {
   "cell_type": "code",
   "execution_count": 1,
   "metadata": {},
   "outputs": [],
   "source": [
    "import yaml\n",
    "import csv\n",
    "from sklearn import svm, metrics\n",
    "from sklearn.model_selection import train_test_split\n",
    "import numpy as np"
   ]
  },
  {
   "cell_type": "code",
   "execution_count": 2,
   "metadata": {},
   "outputs": [
    {
     "name": "stdout",
     "output_type": "stream",
     "text": [
      "(21843, 256)\n"
     ]
    }
   ],
   "source": [
    "data_path = \"../datasets/bikes_im/\"\n",
    "\n",
    "im_inds = []\n",
    "im_names = []\n",
    "im_prices = []\n",
    "im_labels = []\n",
    "with open('../datasets/bikes_classified.csv', 'r') as f:\n",
    "        datareader = csv.reader(f)\n",
    "        for line in datareader:\n",
    "            im_inds.append(line[0])\n",
    "            im_names.append(line[1])\n",
    "            im_prices.append(line[2])\n",
    "            im_labels.append(line[3])\n",
    "\n",
    "data_cnn_features = np.load(\"../datasets/bikes_cnn_pca_features.npy\")\n",
    "print(data_cnn_features.shape)"
   ]
  },
  {
   "cell_type": "code",
   "execution_count": 3,
   "metadata": {},
   "outputs": [
    {
     "name": "stdout",
     "output_type": "stream",
     "text": [
      "(19658,)\n",
      "(2185,)\n"
     ]
    }
   ],
   "source": [
    "# Use same train-test split as other models\n",
    "train_indices = np.load(\"bikes_train_indices.npy\")\n",
    "test_indices = np.load(\"bikes_test_indices.npy\")\n",
    "print(train_indices.shape)\n",
    "print(test_indices.shape)"
   ]
  },
  {
   "cell_type": "code",
   "execution_count": 4,
   "metadata": {},
   "outputs": [],
   "source": [
    "features_train = data_cnn_features[train_indices]\n",
    "features_test = data_cnn_features[test_indices]\n",
    "labels = np.array(im_labels)\n",
    "labels_train = labels[train_indices]\n",
    "labels_test = labels[test_indices]"
   ]
  },
  {
   "cell_type": "code",
   "execution_count": 5,
   "metadata": {},
   "outputs": [
    {
     "name": "stdout",
     "output_type": "stream",
     "text": [
      "Wall time: 6min\n"
     ]
    }
   ],
   "source": [
    "classifier = svm.SVC(gamma=0.001)\n",
    "classifier.fit(features_train, labels_train)"
   ]
  },
  {
   "cell_type": "code",
   "execution_count": 8,
   "metadata": {},
   "outputs": [
    {
     "name": "stdout",
     "output_type": "stream",
     "text": [
      "Classification report:\n",
      "             precision    recall  f1-score   support\n",
      "\n",
      "        100       0.95      0.23      0.37       496\n",
      "         25       0.98      0.27      0.43       596\n",
      "         50       0.97      0.31      0.47       563\n",
      "         75       0.30      0.98      0.46       530\n",
      "\n",
      "avg / total       0.80      0.45      0.43      2185\n",
      "\n",
      "\n",
      "Confusion matrix:\n",
      "[[113   0   0 383]\n",
      " [  0 162   4 430]\n",
      " [  0   4 177 382]\n",
      " [  6   0   2 522]]\n"
     ]
    }
   ],
   "source": [
    "predictions = classifier.predict(features_test)\n",
    "from sklearn import metrics\n",
    "print(\"Classification report:\\n%s\\n\"\n",
    "      % (metrics.classification_report(labels_test, predictions)))\n",
    "print(\"Confusion matrix:\\n%s\" % metrics.confusion_matrix(labels_test, predictions))\n"
   ]
  },
  {
   "cell_type": "code",
   "execution_count": null,
   "metadata": {},
   "outputs": [],
   "source": [
    "# Hyperparameter tuning\n",
    "# Note: this will take ~15 hours to complete and does not yield very fruitful results\n",
    "'''\n",
    "from sklearn.model_selection import GridSearchCV\n",
    "from sklearn.metrics import classification_report\n",
    "\n",
    "Cs = [0.001, 0.01, 0.1, 1, 10, 100, 1000]\n",
    "gammas = [0.001, 0.01, 0.1, 1]\n",
    "param_grid = {'C': Cs, 'gamma': gammas}\n",
    "\n",
    "for score in ['precision', 'recall']:\n",
    "    print(\"# Tuning hyper-parameters for %s\" % score)\n",
    "    print()\n",
    "    search = GridSearchCV(svm.SVC(kernel='rbf'), param_grid, cv=5, scoring='%s_macro' % score)\n",
    "    search.fit(features_train, labels_train)\n",
    "    print(\"Best parameters set found on development set:\")\n",
    "    print(search.best_params_)\n",
    "    print(\"Grid scores on development set:\")\n",
    "    means = search.cv_results_['mean_test_score']\n",
    "    stds = search.cv_results_['std_test_score']\n",
    "    for mean, std, params in zip(means, stds, search.cv_results_['params']):\n",
    "        print(\"%0.3f (+/-%0.03f) for %r\"\n",
    "              % (mean, std * 2, params))\n",
    "\n",
    "    print(\"Detailed classification report:\")\n",
    "    print(\"The model is trained on the full development set.\")\n",
    "    print(\"The scores are computed on the full evaluation set.\")\n",
    "    y_true, y_pred = labels_test, search.predict(features_test)\n",
    "    print(classification_report(y_true, y_pred))\n",
    "'''"
   ]
  }
 ],
 "metadata": {
  "kernelspec": {
   "display_name": "Python 3",
   "language": "python",
   "name": "python3"
  },
  "language_info": {
   "codemirror_mode": {
    "name": "ipython",
    "version": 3
   },
   "file_extension": ".py",
   "mimetype": "text/x-python",
   "name": "python",
   "nbconvert_exporter": "python",
   "pygments_lexer": "ipython3",
   "version": "3.5.4"
  }
 },
 "nbformat": 4,
 "nbformat_minor": 2
}
