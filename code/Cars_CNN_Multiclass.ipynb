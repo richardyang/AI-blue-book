{
 "cells": [
  {
   "cell_type": "code",
   "execution_count": 1,
   "metadata": {},
   "outputs": [
    {
     "name": "stderr",
     "output_type": "stream",
     "text": [
      "Using TensorFlow backend.\n"
     ]
    }
   ],
   "source": [
    "import csv\n",
    "import math\n",
    "\n",
    "import matplotlib.pyplot as plt\n",
    "import numpy as np\n",
    "\n",
    "from keras import applications\n",
    "from keras.preprocessing import image\n",
    "from keras.preprocessing.image import ImageDataGenerator\n",
    "from keras import optimizers\n",
    "from keras.models import Sequential, Model\n",
    "from keras.layers import Dropout, Flatten, Dense, Input\n",
    "from keras.initializers import glorot_uniform\n",
    "from keras.applications.vgg16 import preprocess_input"
   ]
  },
  {
   "cell_type": "code",
   "execution_count": 2,
   "metadata": {},
   "outputs": [],
   "source": [
    "# build the VGG16 network\n",
    "input_tensor = Input(shape=(224,224,3))\n",
    "model = applications.VGG16(weights='imagenet', include_top=False, input_tensor = input_tensor)"
   ]
  },
  {
   "cell_type": "code",
   "execution_count": 3,
   "metadata": {},
   "outputs": [],
   "source": [
    "# build a classifier model to put on top of the convolutional model\n",
    "x = model.output\n",
    "x = Flatten(input_shape=(model.output_shape[1:]))(x)\n",
    "x = Dropout(0.2)(x)\n",
    "x = Dense(256, activation='relu', kernel_initializer='glorot_uniform')(x)\n",
    "x = Dense(5, activation='softmax', name='output', kernel_initializer='glorot_uniform')(x)\n",
    "\n",
    "# add new classifier model on top of convolutional base\n",
    "new_model = Model(model.input, x)"
   ]
  },
  {
   "cell_type": "code",
   "execution_count": 4,
   "metadata": {},
   "outputs": [],
   "source": [
    "# set the first 19 layers (up to the last conv block)\n",
    "# to non-trainable (weights will not be updated)\n",
    "for layer in new_model.layers[:19]:\n",
    "    layer.trainable = False"
   ]
  },
  {
   "cell_type": "code",
   "execution_count": 5,
   "metadata": {},
   "outputs": [
    {
     "name": "stdout",
     "output_type": "stream",
     "text": [
      "_________________________________________________________________\n",
      "Layer (type)                 Output Shape              Param #   \n",
      "=================================================================\n",
      "input_1 (InputLayer)         (None, 224, 224, 3)       0         \n",
      "_________________________________________________________________\n",
      "block1_conv1 (Conv2D)        (None, 224, 224, 64)      1792      \n",
      "_________________________________________________________________\n",
      "block1_conv2 (Conv2D)        (None, 224, 224, 64)      36928     \n",
      "_________________________________________________________________\n",
      "block1_pool (MaxPooling2D)   (None, 112, 112, 64)      0         \n",
      "_________________________________________________________________\n",
      "block2_conv1 (Conv2D)        (None, 112, 112, 128)     73856     \n",
      "_________________________________________________________________\n",
      "block2_conv2 (Conv2D)        (None, 112, 112, 128)     147584    \n",
      "_________________________________________________________________\n",
      "block2_pool (MaxPooling2D)   (None, 56, 56, 128)       0         \n",
      "_________________________________________________________________\n",
      "block3_conv1 (Conv2D)        (None, 56, 56, 256)       295168    \n",
      "_________________________________________________________________\n",
      "block3_conv2 (Conv2D)        (None, 56, 56, 256)       590080    \n",
      "_________________________________________________________________\n",
      "block3_conv3 (Conv2D)        (None, 56, 56, 256)       590080    \n",
      "_________________________________________________________________\n",
      "block3_pool (MaxPooling2D)   (None, 28, 28, 256)       0         \n",
      "_________________________________________________________________\n",
      "block4_conv1 (Conv2D)        (None, 28, 28, 512)       1180160   \n",
      "_________________________________________________________________\n",
      "block4_conv2 (Conv2D)        (None, 28, 28, 512)       2359808   \n",
      "_________________________________________________________________\n",
      "block4_conv3 (Conv2D)        (None, 28, 28, 512)       2359808   \n",
      "_________________________________________________________________\n",
      "block4_pool (MaxPooling2D)   (None, 14, 14, 512)       0         \n",
      "_________________________________________________________________\n",
      "block5_conv1 (Conv2D)        (None, 14, 14, 512)       2359808   \n",
      "_________________________________________________________________\n",
      "block5_conv2 (Conv2D)        (None, 14, 14, 512)       2359808   \n",
      "_________________________________________________________________\n",
      "block5_conv3 (Conv2D)        (None, 14, 14, 512)       2359808   \n",
      "_________________________________________________________________\n",
      "block5_pool (MaxPooling2D)   (None, 7, 7, 512)         0         \n",
      "_________________________________________________________________\n",
      "flatten_1 (Flatten)          (None, 25088)             0         \n",
      "_________________________________________________________________\n",
      "dropout_1 (Dropout)          (None, 25088)             0         \n",
      "_________________________________________________________________\n",
      "dense_1 (Dense)              (None, 256)               6422784   \n",
      "_________________________________________________________________\n",
      "output (Dense)               (None, 5)                 1285      \n",
      "=================================================================\n",
      "Total params: 21,138,757\n",
      "Trainable params: 6,424,069\n",
      "Non-trainable params: 14,714,688\n",
      "_________________________________________________________________\n"
     ]
    }
   ],
   "source": [
    "new_model.summary()"
   ]
  },
  {
   "cell_type": "code",
   "execution_count": 6,
   "metadata": {},
   "outputs": [],
   "source": [
    "# Use SGD and Categorical CE Loss\n",
    "#sgd = optimizers.SGD(lr=1e-3, decay=1e-6, momentum=0.9, nesterov=True)\n",
    "#new_model.compile(optimizer=sgd, loss='categorical_crossentropy', metrics=['accuracy'])\n",
    "\n",
    "# RMSprop\n",
    "new_model.compile(loss='categorical_crossentropy',\n",
    "                  optimizer=optimizers.RMSprop(lr=0.0001, rho=0.9, epsilon=1e-07, decay=0.0), metrics=['accuracy'])"
   ]
  },
  {
   "cell_type": "code",
   "execution_count": 7,
   "metadata": {},
   "outputs": [],
   "source": [
    "# read the CSV into memory\n",
    "prices = []\n",
    "image_paths = []\n",
    "\n",
    "data_path = \"../datasets/cars_im/\"\n",
    "with open(\"../datasets/cars_classified.csv\") as file:\n",
    "    reader = csv.reader(file)\n",
    "    i = -1\n",
    "    for row in reader:\n",
    "        i += 1\n",
    "        index = row[0]\n",
    "        name = row[1]\n",
    "        msrp = row[3]\n",
    "        label = row[4]\n",
    "        \n",
    "        image_path = data_path + index + '.jpg'\n",
    "        image_paths.append(image_path)\n",
    "        prices.append(str(label))"
   ]
  },
  {
   "cell_type": "code",
   "execution_count": 8,
   "metadata": {},
   "outputs": [
    {
     "data": {
      "text/plain": [
       "'80'"
      ]
     },
     "execution_count": 8,
     "metadata": {},
     "output_type": "execute_result"
    }
   ],
   "source": [
    "prices[-1]"
   ]
  },
  {
   "cell_type": "code",
   "execution_count": 9,
   "metadata": {},
   "outputs": [],
   "source": [
    "def image_generator(indices, batch_size):\n",
    "\n",
    "    num_batches = int(len(indices) / batch_size)\n",
    "    \n",
    "    while True:\n",
    "        for batch_i in range(num_batches):\n",
    "            if batch_i == num_batches - 1:\n",
    "                # special case: return as many as possible\n",
    "                start_i = batch_i * batch_size\n",
    "                batch_indices = indices[start_i:]\n",
    "                \n",
    "                X = np.zeros((len(batch_indices), 224, 224, 3))\n",
    "                Y = np.zeros((len(batch_indices), 5)) # Change to one-hot\n",
    "            \n",
    "            else:\n",
    "                start_i = batch_i * batch_size\n",
    "                end_i = start_i + batch_size\n",
    "\n",
    "                batch_indices = indices[start_i:end_i]\n",
    "\n",
    "                X = np.zeros((batch_size, 224, 224, 3))\n",
    "                Y = np.zeros((batch_size, 5)) # Change to one-hot\n",
    "            \n",
    "            for i, index in enumerate(batch_indices):\n",
    "                img = image.load_img(image_paths[index], target_size=(224, 224))\n",
    "                X[i, :, :, :] = image.img_to_array(img)\n",
    "                # Convert to 1 hot vector\n",
    "                p = prices[index]\n",
    "                if p == \"20\":\n",
    "                    Y[i,:] = np.array([1,0,0,0,0])\n",
    "                if p == \"40\":\n",
    "                    Y[i,:] = np.array([0,1,0,0,0])\n",
    "                if p == \"60\":\n",
    "                    Y[i,:] = np.array([0,0,1,0,0])\n",
    "                if p == \"80\":\n",
    "                    Y[i,:] = np.array([0,0,0,1,0])\n",
    "                if p == \"100\":\n",
    "                    Y[i,:] = np.array([0,0,0,0,1])\n",
    "            \n",
    "            # use vgg16 preprocessing\n",
    "            X = preprocess_input(X)\n",
    "            \n",
    "            yield (X, Y)"
   ]
  },
  {
   "cell_type": "code",
   "execution_count": 10,
   "metadata": {},
   "outputs": [
    {
     "name": "stdout",
     "output_type": "stream",
     "text": [
      "(1330,)\n",
      "(147,)\n"
     ]
    }
   ],
   "source": [
    "train_indices = np.load(\"cars_train_indices.npy\")\n",
    "test_indices = np.load(\"cars_test_indices.npy\")\n",
    "print(train_indices.shape)\n",
    "print(test_indices.shape)"
   ]
  },
  {
   "cell_type": "code",
   "execution_count": 11,
   "metadata": {},
   "outputs": [
    {
     "name": "stderr",
     "output_type": "stream",
     "text": [
      "C:\\Users\\Richard\\Anaconda3\\envs\\tensorflow\\lib\\site-packages\\ipykernel_launcher.py:13: UserWarning: The semantics of the Keras 2 argument `steps_per_epoch` is not the same as the Keras 1 argument `samples_per_epoch`. `steps_per_epoch` is the number of batches to draw from the generator at each epoch. Basically steps_per_epoch = samples_per_epoch/batch_size. Similarly `nb_val_samples`->`validation_steps` and `val_samples`->`steps` arguments have changed. Update your method calls accordingly.\n",
      "  del sys.path[0]\n",
      "C:\\Users\\Richard\\Anaconda3\\envs\\tensorflow\\lib\\site-packages\\ipykernel_launcher.py:13: UserWarning: Update your `fit_generator` call to the Keras 2 API: `fit_generator(<generator..., steps_per_epoch=21, validation_data=<generator..., validation_steps=3, epochs=30)`\n",
      "  del sys.path[0]\n"
     ]
    },
    {
     "name": "stdout",
     "output_type": "stream",
     "text": [
      "Epoch 1/30\n",
      "21/21 [==============================] - 14s 668ms/step - loss: 12.8691 - acc: 0.1915 - val_loss: 13.6736 - val_acc: 0.1517\n",
      "Epoch 2/30\n",
      "21/21 [==============================] - 9s 416ms/step - loss: 13.3071 - acc: 0.1744 - val_loss: 13.1047 - val_acc: 0.1870\n",
      "Epoch 3/30\n",
      "21/21 [==============================] - 8s 404ms/step - loss: 12.5962 - acc: 0.2148 - val_loss: 12.3750 - val_acc: 0.2322\n",
      "Epoch 4/30\n",
      "21/21 [==============================] - 9s 418ms/step - loss: 12.1798 - acc: 0.2438 - val_loss: 12.4039 - val_acc: 0.2304\n",
      "Epoch 5/30\n",
      "21/21 [==============================] - 9s 417ms/step - loss: 12.1828 - acc: 0.2415 - val_loss: 12.2638 - val_acc: 0.2391\n",
      "Epoch 6/30\n",
      "21/21 [==============================] - 9s 408ms/step - loss: 11.1290 - acc: 0.2738 - val_loss: 12.1593 - val_acc: 0.2180\n",
      "Epoch 7/30\n",
      "21/21 [==============================] - 9s 407ms/step - loss: 10.3286 - acc: 0.3226 - val_loss: 9.9852 - val_acc: 0.3460\n",
      "Epoch 8/30\n",
      "21/21 [==============================] - 9s 407ms/step - loss: 9.7596 - acc: 0.3476 - val_loss: 10.4916 - val_acc: 0.3175\n",
      "Epoch 9/30\n",
      "21/21 [==============================] - 9s 408ms/step - loss: 9.1394 - acc: 0.3962 - val_loss: 9.2984 - val_acc: 0.3934\n",
      "Epoch 10/30\n",
      "21/21 [==============================] - 9s 408ms/step - loss: 9.0207 - acc: 0.3961 - val_loss: 8.9680 - val_acc: 0.3981\n",
      "Epoch 11/30\n",
      "21/21 [==============================] - 9s 409ms/step - loss: 8.9246 - acc: 0.3995 - val_loss: 9.3275 - val_acc: 0.3602\n",
      "Epoch 12/30\n",
      "21/21 [==============================] - 8s 404ms/step - loss: 8.3973 - acc: 0.4343 - val_loss: 9.1700 - val_acc: 0.3555\n",
      "Epoch 13/30\n",
      "21/21 [==============================] - 9s 414ms/step - loss: 7.9099 - acc: 0.4573 - val_loss: 8.2118 - val_acc: 0.4522\n",
      "Epoch 14/30\n",
      "21/21 [==============================] - 9s 407ms/step - loss: 6.5144 - acc: 0.5269 - val_loss: 6.1774 - val_acc: 0.5355\n",
      "Epoch 15/30\n",
      "21/21 [==============================] - 9s 409ms/step - loss: 5.5748 - acc: 0.5914 - val_loss: 6.0334 - val_acc: 0.5355\n",
      "Epoch 16/30\n",
      "21/21 [==============================] - 9s 410ms/step - loss: 5.2319 - acc: 0.6110 - val_loss: 5.7828 - val_acc: 0.5640\n",
      "Epoch 17/30\n",
      "21/21 [==============================] - 9s 409ms/step - loss: 5.1966 - acc: 0.6210 - val_loss: 5.6709 - val_acc: 0.5924\n",
      "Epoch 18/30\n",
      "21/21 [==============================] - 9s 410ms/step - loss: 4.9758 - acc: 0.6359 - val_loss: 6.0596 - val_acc: 0.5450\n",
      "Epoch 19/30\n",
      "21/21 [==============================] - 9s 408ms/step - loss: 4.8321 - acc: 0.6373 - val_loss: 4.6957 - val_acc: 0.6445\n",
      "Epoch 20/30\n",
      "21/21 [==============================] - 9s 415ms/step - loss: 4.6145 - acc: 0.6480 - val_loss: 4.3964 - val_acc: 0.6682\n",
      "Epoch 21/30\n",
      "21/21 [==============================] - 9s 418ms/step - loss: 4.2838 - acc: 0.6755 - val_loss: 4.1927 - val_acc: 0.7000\n",
      "Epoch 22/30\n",
      "21/21 [==============================] - 9s 407ms/step - loss: 4.2531 - acc: 0.6761 - val_loss: 5.0611 - val_acc: 0.6161\n",
      "Epoch 23/30\n",
      "21/21 [==============================] - 9s 409ms/step - loss: 4.2377 - acc: 0.6920 - val_loss: 3.7852 - val_acc: 0.7346\n",
      "Epoch 24/30\n",
      "21/21 [==============================] - 9s 407ms/step - loss: 4.1139 - acc: 0.6977 - val_loss: 3.8915 - val_acc: 0.7014\n",
      "Epoch 25/30\n",
      "21/21 [==============================] - 9s 407ms/step - loss: 4.1732 - acc: 0.6856 - val_loss: 4.3835 - val_acc: 0.6682\n",
      "Epoch 26/30\n",
      "21/21 [==============================] - 9s 409ms/step - loss: 4.2073 - acc: 0.6826 - val_loss: 4.2257 - val_acc: 0.6919\n",
      "Epoch 27/30\n",
      "21/21 [==============================] - 9s 410ms/step - loss: 4.0730 - acc: 0.6963 - val_loss: 4.0554 - val_acc: 0.6777\n",
      "Epoch 28/30\n",
      "21/21 [==============================] - 9s 409ms/step - loss: 4.0226 - acc: 0.6963 - val_loss: 4.0264 - val_acc: 0.7014\n",
      "Epoch 29/30\n",
      "21/21 [==============================] - 9s 419ms/step - loss: 4.1987 - acc: 0.6864 - val_loss: 4.0515 - val_acc: 0.7000\n",
      "Epoch 30/30\n",
      "21/21 [==============================] - 8s 405ms/step - loss: 4.1059 - acc: 0.6947 - val_loss: 3.6566 - val_acc: 0.7014\n"
     ]
    }
   ],
   "source": [
    "epochs = 30\n",
    "minibatch_size = 64\n",
    "\n",
    "train_steps = math.ceil(len(train_indices) / minibatch_size)\n",
    "test_steps = math.ceil(len(test_indices) / minibatch_size)\n",
    "\n",
    "# fine-tune the model\n",
    "history = new_model.fit_generator(\n",
    "    image_generator(train_indices, minibatch_size),\n",
    "    steps_per_epoch=train_steps,\n",
    "    epochs=epochs,\n",
    "    validation_data=image_generator(test_indices, minibatch_size),\n",
    "    nb_val_samples=test_steps)\n",
    "new_model.save('../datasets/cars_classification_best.hdf5')"
   ]
  },
  {
   "cell_type": "code",
   "execution_count": 18,
   "metadata": {},
   "outputs": [
    {
     "name": "stdout",
     "output_type": "stream",
     "text": [
      "dict_keys(['val_loss', 'val_acc', 'loss', 'acc'])\n"
     ]
    },
    {
     "data": {
      "image/png": "[encoded data removed]",
      "text/plain": [
       "<matplotlib.figure.Figure at 0x282e24c5470>"
      ]
     },
     "metadata": {},
     "output_type": "display_data"
    }
   ],
   "source": [
    "print(history.history.keys())\n",
    "plt.plot(history.history['loss'])\n",
    "plt.plot(history.history['val_loss'])\n",
    "plt.title('Model Loss')\n",
    "plt.ylabel('Loss')\n",
    "plt.xlabel('Epoch')\n",
    "plt.legend(['train', 'test'], loc='upper right')\n",
    "plt.show()"
   ]
  },
  {
   "cell_type": "code",
   "execution_count": 15,
   "metadata": {},
   "outputs": [],
   "source": [
    "from keras.models import load_model\n",
    "new_model = load_model('../datasets/cars_classification_best.hdf5')"
   ]
  },
  {
   "cell_type": "code",
   "execution_count": 16,
   "metadata": {},
   "outputs": [],
   "source": [
    "true_label = []\n",
    "predicted_label = []\n",
    "for index in test_indices:\n",
    "    msrp = prices[index]\n",
    "    true_label.append(str(msrp))\n",
    "    \n",
    "    path = image_paths[index]\n",
    "    img = image.load_img(path, target_size=(224, 224))\n",
    "    data = np.expand_dims(image.img_to_array(img), axis=0)\n",
    "    \n",
    "    # Prediction outputs softmax vector\n",
    "    prediction = new_model.predict(data)\n",
    "    \n",
    "    # Set most confident prediction as label, and convert it to our price scale\n",
    "    label = np.argmax(prediction) * 20 + 20\n",
    "    predicted_label.append(str(label))"
   ]
  },
  {
   "cell_type": "code",
   "execution_count": 17,
   "metadata": {},
   "outputs": [
    {
     "name": "stdout",
     "output_type": "stream",
     "text": [
      "Classification report:\n",
      "             precision    recall  f1-score   support\n",
      "\n",
      "        100       0.45      1.00      0.62        29\n",
      "         20       0.91      0.89      0.90        36\n",
      "         40       0.76      0.38      0.51        34\n",
      "         60       0.48      0.60      0.54        25\n",
      "         80       0.00      0.00      0.00        23\n",
      "\n",
      "avg / total       0.57      0.61      0.55       147\n",
      "\n",
      "\n",
      "Confusion matrix:\n",
      "[[29  0  0  0  0]\n",
      " [ 4 32  0  0  0]\n",
      " [10  1 13 10  0]\n",
      " [ 5  2  3 15  0]\n",
      " [16  0  1  6  0]]\n"
     ]
    },
    {
     "name": "stderr",
     "output_type": "stream",
     "text": [
      "C:\\Users\\Richard\\Anaconda3\\envs\\tensorflow\\lib\\site-packages\\sklearn\\metrics\\classification.py:1135: UndefinedMetricWarning: Precision and F-score are ill-defined and being set to 0.0 in labels with no predicted samples.\n",
      "  'precision', 'predicted', average, warn_for)\n"
     ]
    }
   ],
   "source": [
    "from sklearn.metrics import confusion_matrix, classification_report\n",
    "print(\"Classification report:\\n%s\\n\"\n",
    "      % (classification_report(true_label, predicted_label)))\n",
    "print(\"Confusion matrix:\\n%s\" % confusion_matrix(true_label, predicted_label))"
   ]
  }
 ],
 "metadata": {
  "kernelspec": {
   "display_name": "Python 3",
   "language": "python",
   "name": "python3"
  },
  "language_info": {
   "codemirror_mode": {
    "name": "ipython",
    "version": 3
   },
   "file_extension": ".py",
   "mimetype": "text/x-python",
   "name": "python",
   "nbconvert_exporter": "python",
   "pygments_lexer": "ipython3",
   "version": "3.5.4"
  }
 },
 "nbformat": 4,
 "nbformat_minor": 2
}
