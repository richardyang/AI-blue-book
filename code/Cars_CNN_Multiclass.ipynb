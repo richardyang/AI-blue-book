{
 "cells": [
  {
   "cell_type": "code",
   "execution_count": 1,
   "metadata": {
    "collapsed": false
   },
   "outputs": [
    {
     "name": "stderr",
     "output_type": "stream",
     "text": [
      "Using TensorFlow backend.\n"
     ]
    }
   ],
   "source": [
    "import csv\n",
    "import math\n",
    "\n",
    "import matplotlib.pyplot as plt\n",
    "import numpy as np\n",
    "\n",
    "from keras import applications\n",
    "from keras.callbacks import ModelCheckpoint\n",
    "from keras.preprocessing import image\n",
    "from keras.preprocessing.image import ImageDataGenerator\n",
    "from keras import optimizers\n",
    "from keras.models import Sequential, Model\n",
    "from keras.layers import Dropout, Flatten, Dense, Input\n",
    "from keras.initializers import glorot_uniform\n",
    "from keras.applications.vgg16 import preprocess_input"
   ]
  },
  {
   "cell_type": "code",
   "execution_count": 82,
   "metadata": {
    "collapsed": true
   },
   "outputs": [],
   "source": [
    "# build the VGG16 network\n",
    "input_tensor = Input(shape=(224,224,3))\n",
    "model = applications.VGG16(weights='imagenet', include_top=False, input_tensor = input_tensor)"
   ]
  },
  {
   "cell_type": "code",
   "execution_count": 92,
   "metadata": {
    "collapsed": true
   },
   "outputs": [],
   "source": [
    "# build a classifier model to put on top of the convolutional model\n",
    "x = model.output\n",
    "x = Flatten(input_shape=(model.output_shape[1:]))(x)\n",
    "x = Dropout(0.2)(x)\n",
    "x = Dense(300, activation='relu', kernel_initializer='glorot_normal')(x)\n",
    "x = Dropout(0.2)(x)\n",
    "x = Dense(300, activation='relu', kernel_initializer='glorot_normal')(x)\n",
    "x = Dense(5, activation='softmax', name='output', kernel_initializer='glorot_normal')(x)\n",
    "\n",
    "# add new classifier model on top of convolutional base\n",
    "new_model = Model(model.input, x)"
   ]
  },
  {
   "cell_type": "code",
   "execution_count": 84,
   "metadata": {
    "collapsed": true
   },
   "outputs": [],
   "source": [
    "# set the first 19 layers (up to the last conv block)\n",
    "# to non-trainable (weights will not be updated)\n",
    "for layer in new_model.layers[:19]:\n",
    "    layer.trainable = False"
   ]
  },
  {
   "cell_type": "code",
   "execution_count": 85,
   "metadata": {
    "collapsed": false
   },
   "outputs": [
    {
     "name": "stdout",
     "output_type": "stream",
     "text": [
      "_________________________________________________________________\n",
      "Layer (type)                 Output Shape              Param #   \n",
      "=================================================================\n",
      "input_5 (InputLayer)         (None, 224, 224, 3)       0         \n",
      "_________________________________________________________________\n",
      "block1_conv1 (Conv2D)        (None, 224, 224, 64)      1792      \n",
      "_________________________________________________________________\n",
      "block1_conv2 (Conv2D)        (None, 224, 224, 64)      36928     \n",
      "_________________________________________________________________\n",
      "block1_pool (MaxPooling2D)   (None, 112, 112, 64)      0         \n",
      "_________________________________________________________________\n",
      "block2_conv1 (Conv2D)        (None, 112, 112, 128)     73856     \n",
      "_________________________________________________________________\n",
      "block2_conv2 (Conv2D)        (None, 112, 112, 128)     147584    \n",
      "_________________________________________________________________\n",
      "block2_pool (MaxPooling2D)   (None, 56, 56, 128)       0         \n",
      "_________________________________________________________________\n",
      "block3_conv1 (Conv2D)        (None, 56, 56, 256)       295168    \n",
      "_________________________________________________________________\n",
      "block3_conv2 (Conv2D)        (None, 56, 56, 256)       590080    \n",
      "_________________________________________________________________\n",
      "block3_conv3 (Conv2D)        (None, 56, 56, 256)       590080    \n",
      "_________________________________________________________________\n",
      "block3_pool (MaxPooling2D)   (None, 28, 28, 256)       0         \n",
      "_________________________________________________________________\n",
      "block4_conv1 (Conv2D)        (None, 28, 28, 512)       1180160   \n",
      "_________________________________________________________________\n",
      "block4_conv2 (Conv2D)        (None, 28, 28, 512)       2359808   \n",
      "_________________________________________________________________\n",
      "block4_conv3 (Conv2D)        (None, 28, 28, 512)       2359808   \n",
      "_________________________________________________________________\n",
      "block4_pool (MaxPooling2D)   (None, 14, 14, 512)       0         \n",
      "_________________________________________________________________\n",
      "block5_conv1 (Conv2D)        (None, 14, 14, 512)       2359808   \n",
      "_________________________________________________________________\n",
      "block5_conv2 (Conv2D)        (None, 14, 14, 512)       2359808   \n",
      "_________________________________________________________________\n",
      "block5_conv3 (Conv2D)        (None, 14, 14, 512)       2359808   \n",
      "_________________________________________________________________\n",
      "block5_pool (MaxPooling2D)   (None, 7, 7, 512)         0         \n",
      "_________________________________________________________________\n",
      "flatten_7 (Flatten)          (None, 25088)             0         \n",
      "_________________________________________________________________\n",
      "dropout_9 (Dropout)          (None, 25088)             0         \n",
      "_________________________________________________________________\n",
      "dense_9 (Dense)              (None, 300)               7526700   \n",
      "_________________________________________________________________\n",
      "dropout_10 (Dropout)         (None, 300)               0         \n",
      "_________________________________________________________________\n",
      "dense_10 (Dense)             (None, 300)               90300     \n",
      "_________________________________________________________________\n",
      "output (Dense)               (None, 5)                 1505      \n",
      "=================================================================\n",
      "Total params: 22,333,193\n",
      "Trainable params: 7,618,505\n",
      "Non-trainable params: 14,714,688\n",
      "_________________________________________________________________\n"
     ]
    }
   ],
   "source": [
    "new_model.summary()"
   ]
  },
  {
   "cell_type": "code",
   "execution_count": 86,
   "metadata": {
    "collapsed": true
   },
   "outputs": [],
   "source": [
    "# Use SGD and Categorical CE Loss\n",
    "#sgd = optimizers.SGD(lr=1e-3, decay=1e-6, momentum=0.9, nesterov=True)\n",
    "#new_model.compile(optimizer=sgd, loss='categorical_crossentropy', metrics=['accuracy'])\n",
    "\n",
    "new_model.compile(loss='categorical_crossentropy',\n",
    "                  optimizer=optimizers.Adam(lr=0.0003), metrics=['accuracy'])\n",
    "\n",
    "# RMSprop\n",
    "# new_model.compile(loss='categorical_crossentropy',\n",
    "#                   optimizer=optimizers.RMSprop(lr=0.0001, rho=0.9, epsilon=1e-07, decay=0.0), metrics=['accuracy'])"
   ]
  },
  {
   "cell_type": "code",
   "execution_count": 4,
   "metadata": {
    "collapsed": false
   },
   "outputs": [],
   "source": [
    "# read the CSV into memory\n",
    "prices = []\n",
    "image_paths = []\n",
    "\n",
    "data_path = \"../datasets/cars_im/\"\n",
    "with open(\"../datasets/cars_classified.csv\") as file:\n",
    "    reader = csv.reader(file)\n",
    "    i = -1\n",
    "    for row in reader:\n",
    "        i += 1\n",
    "        index = row[0]\n",
    "        name = row[1]\n",
    "        msrp = row[3]\n",
    "        label = row[4]\n",
    "        \n",
    "        image_path = data_path + index + '.jpg'\n",
    "        image_paths.append(image_path)\n",
    "        prices.append(str(label))"
   ]
  },
  {
   "cell_type": "code",
   "execution_count": 5,
   "metadata": {
    "collapsed": false
   },
   "outputs": [
    {
     "data": {
      "text/plain": [
       "'80'"
      ]
     },
     "execution_count": 5,
     "metadata": {},
     "output_type": "execute_result"
    }
   ],
   "source": [
    "prices[-1]"
   ]
  },
  {
   "cell_type": "code",
   "execution_count": 6,
   "metadata": {
    "collapsed": true
   },
   "outputs": [],
   "source": [
    "def image_generator(indices, batch_size):\n",
    "\n",
    "    num_batches = int(len(indices) / batch_size)\n",
    "    \n",
    "    while True:\n",
    "        for batch_i in range(num_batches):\n",
    "            if batch_i == num_batches - 1:\n",
    "                # special case: return as many as possible\n",
    "                start_i = batch_i * batch_size\n",
    "                batch_indices = indices[start_i:]\n",
    "                \n",
    "                X = np.zeros((len(batch_indices), 224, 224, 3))\n",
    "                Y = np.zeros((len(batch_indices), 5)) # Change to one-hot\n",
    "            \n",
    "            else:\n",
    "                start_i = batch_i * batch_size\n",
    "                end_i = start_i + batch_size\n",
    "\n",
    "                batch_indices = indices[start_i:end_i]\n",
    "\n",
    "                X = np.zeros((batch_size, 224, 224, 3))\n",
    "                Y = np.zeros((batch_size, 5)) # Change to one-hot\n",
    "            \n",
    "            for i, index in enumerate(batch_indices):\n",
    "                img = image.load_img(image_paths[index], target_size=(224, 224))\n",
    "                X[i, :, :, :] = image.img_to_array(img)\n",
    "                # Convert to 1 hot vector\n",
    "                p = prices[index]\n",
    "                if p == \"20\":\n",
    "                    Y[i,:] = np.array([1,0,0,0,0])\n",
    "                if p == \"40\":\n",
    "                    Y[i,:] = np.array([0,1,0,0,0])\n",
    "                if p == \"60\":\n",
    "                    Y[i,:] = np.array([0,0,1,0,0])\n",
    "                if p == \"80\":\n",
    "                    Y[i,:] = np.array([0,0,0,1,0])\n",
    "                if p == \"100\":\n",
    "                    Y[i,:] = np.array([0,0,0,0,1])\n",
    "            \n",
    "            # use vgg16 preprocessing\n",
    "            X = preprocess_input(X)\n",
    "            \n",
    "            yield (X, Y)"
   ]
  },
  {
   "cell_type": "code",
   "execution_count": 7,
   "metadata": {
    "collapsed": false
   },
   "outputs": [
    {
     "name": "stdout",
     "output_type": "stream",
     "text": [
      "(1330,)\n",
      "(147,)\n"
     ]
    }
   ],
   "source": [
    "train_indices = np.load(\"cars_train_indices.npy\")\n",
    "test_indices = np.load(\"cars_test_indices.npy\")\n",
    "print(train_indices.shape)\n",
    "print(test_indices.shape)"
   ]
  },
  {
   "cell_type": "code",
   "execution_count": 91,
   "metadata": {
    "collapsed": false,
    "scrolled": false
   },
   "outputs": [
    {
     "name": "stderr",
     "output_type": "stream",
     "text": [
      "/usr/local/lib/python3.6/site-packages/ipykernel_launcher.py:16: UserWarning: The semantics of the Keras 2 argument `steps_per_epoch` is not the same as the Keras 1 argument `samples_per_epoch`. `steps_per_epoch` is the number of batches to draw from the generator at each epoch. Basically steps_per_epoch = samples_per_epoch/batch_size. Similarly `nb_val_samples`->`validation_steps` and `val_samples`->`steps` arguments have changed. Update your method calls accordingly.\n",
      "  app.launch_new_instance()\n",
      "/usr/local/lib/python3.6/site-packages/ipykernel_launcher.py:16: UserWarning: Update your `fit_generator` call to the Keras 2 API: `fit_generator(<generator..., steps_per_epoch=19, epochs=25, validation_data=<generator..., callbacks=[<keras.ca..., validation_steps=3)`\n",
      "  app.launch_new_instance()\n"
     ]
    },
    {
     "name": "stdout",
     "output_type": "stream",
     "text": [
      "Epoch 1/25\n",
      "18/19 [===========================>..] - ETA: 0s - loss: 6.5364 - acc: 0.3540Epoch 00000: val_acc improved from -inf to 0.48387, saving model to cars_classification_best.hdf5\n",
      "19/19 [==============================] - 21s - loss: 6.4587 - acc: 0.3549 - val_loss: 3.7953 - val_acc: 0.4839\n",
      "Epoch 2/25\n",
      "18/19 [===========================>..] - ETA: 0s - loss: 3.2822 - acc: 0.4746Epoch 00001: val_acc improved from 0.48387 to 0.54464, saving model to cars_classification_best.hdf5\n",
      "19/19 [==============================] - 21s - loss: 3.2224 - acc: 0.4699 - val_loss: 1.2271 - val_acc: 0.5446\n",
      "Epoch 3/25\n",
      "18/19 [===========================>..] - ETA: 0s - loss: 1.4116 - acc: 0.5175Epoch 00002: val_acc improved from 0.54464 to 0.63134, saving model to cars_classification_best.hdf5\n",
      "19/19 [==============================] - 21s - loss: 1.3951 - acc: 0.5188 - val_loss: 0.9803 - val_acc: 0.6313\n",
      "Epoch 4/25\n",
      "18/19 [===========================>..] - ETA: 0s - loss: 1.0543 - acc: 0.5841Epoch 00003: val_acc improved from 0.63134 to 0.70536, saving model to cars_classification_best.hdf5\n",
      "19/19 [==============================] - 21s - loss: 1.0565 - acc: 0.5842 - val_loss: 0.8646 - val_acc: 0.7054\n",
      "Epoch 5/25\n",
      "18/19 [===========================>..] - ETA: 0s - loss: 0.9636 - acc: 0.6119Epoch 00004: val_acc did not improve\n",
      "19/19 [==============================] - 20s - loss: 0.9669 - acc: 0.6105 - val_loss: 0.7698 - val_acc: 0.7051\n",
      "Epoch 6/25\n",
      "18/19 [===========================>..] - ETA: 0s - loss: 0.9101 - acc: 0.6310Epoch 00005: val_acc improved from 0.70536 to 0.72321, saving model to cars_classification_best.hdf5\n",
      "19/19 [==============================] - 21s - loss: 0.9092 - acc: 0.6278 - val_loss: 0.7694 - val_acc: 0.7232\n",
      "Epoch 7/25\n",
      "18/19 [===========================>..] - ETA: 0s - loss: 0.8730 - acc: 0.6532Epoch 00006: val_acc improved from 0.72321 to 0.72350, saving model to cars_classification_best.hdf5\n",
      "19/19 [==============================] - 21s - loss: 0.8782 - acc: 0.6489 - val_loss: 0.6752 - val_acc: 0.7235\n",
      "Epoch 8/25\n",
      "18/19 [===========================>..] - ETA: 0s - loss: 0.8156 - acc: 0.6627Epoch 00007: val_acc did not improve\n",
      "19/19 [==============================] - 20s - loss: 0.8321 - acc: 0.6571 - val_loss: 0.6482 - val_acc: 0.7188\n",
      "Epoch 9/25\n",
      "18/19 [===========================>..] - ETA: 0s - loss: 0.7693 - acc: 0.6841Epoch 00008: val_acc improved from 0.72350 to 0.74654, saving model to cars_classification_best.hdf5\n",
      "19/19 [==============================] - 21s - loss: 0.7677 - acc: 0.6820 - val_loss: 0.6736 - val_acc: 0.7465\n",
      "Epoch 10/25\n",
      "18/19 [===========================>..] - ETA: 0s - loss: 0.7511 - acc: 0.6817Epoch 00009: val_acc improved from 0.74654 to 0.75000, saving model to cars_classification_best.hdf5\n",
      "19/19 [==============================] - 21s - loss: 0.7574 - acc: 0.6820 - val_loss: 0.7523 - val_acc: 0.7500\n",
      "Epoch 11/25\n",
      "18/19 [===========================>..] - ETA: 0s - loss: 0.7193 - acc: 0.7111Epoch 00010: val_acc did not improve\n",
      "19/19 [==============================] - 20s - loss: 0.7186 - acc: 0.7083 - val_loss: 0.7078 - val_acc: 0.7327\n",
      "Epoch 12/25\n",
      "18/19 [===========================>..] - ETA: 0s - loss: 0.7122 - acc: 0.7056Epoch 00011: val_acc improved from 0.75000 to 0.78571, saving model to cars_classification_best.hdf5\n",
      "19/19 [==============================] - 21s - loss: 0.7135 - acc: 0.7053 - val_loss: 0.6273 - val_acc: 0.7857\n",
      "Epoch 13/25\n",
      "18/19 [===========================>..] - ETA: 0s - loss: 0.7115 - acc: 0.7056Epoch 00012: val_acc did not improve\n",
      "19/19 [==============================] - 20s - loss: 0.7146 - acc: 0.7030 - val_loss: 0.6972 - val_acc: 0.7650\n",
      "Epoch 14/25\n",
      "18/19 [===========================>..] - ETA: 0s - loss: 0.7124 - acc: 0.7190Epoch 00013: val_acc did not improve\n",
      "19/19 [==============================] - 20s - loss: 0.7214 - acc: 0.7120 - val_loss: 0.6575 - val_acc: 0.7857\n",
      "Epoch 15/25\n",
      "18/19 [===========================>..] - ETA: 0s - loss: 0.6425 - acc: 0.7381Epoch 00014: val_acc improved from 0.78571 to 0.78802, saving model to cars_classification_best.hdf5\n",
      "19/19 [==============================] - 21s - loss: 0.6465 - acc: 0.7338 - val_loss: 0.6093 - val_acc: 0.7880\n",
      "Epoch 16/25\n",
      "18/19 [===========================>..] - ETA: 0s - loss: 0.6244 - acc: 0.7532Epoch 00015: val_acc did not improve\n",
      "19/19 [==============================] - 20s - loss: 0.6333 - acc: 0.7398 - val_loss: 0.5512 - val_acc: 0.7768\n",
      "Epoch 17/25\n",
      "18/19 [===========================>..] - ETA: 0s - loss: 0.6216 - acc: 0.7437Epoch 00016: val_acc did not improve\n",
      "19/19 [==============================] - 20s - loss: 0.6292 - acc: 0.7421 - val_loss: 0.6029 - val_acc: 0.7650\n",
      "Epoch 18/25\n",
      "18/19 [===========================>..] - ETA: 0s - loss: 0.5931 - acc: 0.7468Epoch 00017: val_acc did not improve\n",
      "19/19 [==============================] - 20s - loss: 0.5933 - acc: 0.7444 - val_loss: 0.6012 - val_acc: 0.7589\n",
      "Epoch 19/25\n",
      "18/19 [===========================>..] - ETA: 0s - loss: 0.6020 - acc: 0.7302Epoch 00018: val_acc improved from 0.78802 to 0.80184, saving model to cars_classification_best.hdf5\n",
      "19/19 [==============================] - 21s - loss: 0.6113 - acc: 0.7241 - val_loss: 0.6117 - val_acc: 0.8018\n",
      "Epoch 20/25\n",
      "18/19 [===========================>..] - ETA: 0s - loss: 0.5942 - acc: 0.7532Epoch 00019: val_acc did not improve\n",
      "19/19 [==============================] - 20s - loss: 0.5964 - acc: 0.7504 - val_loss: 0.5835 - val_acc: 0.7679\n",
      "Epoch 21/25\n",
      "18/19 [===========================>..] - ETA: 0s - loss: 0.5494 - acc: 0.7786Epoch 00020: val_acc did not improve\n",
      "19/19 [==============================] - 20s - loss: 0.5533 - acc: 0.7774 - val_loss: 0.6405 - val_acc: 0.7788\n",
      "Epoch 22/25\n",
      "18/19 [===========================>..] - ETA: 0s - loss: 0.5539 - acc: 0.7722Epoch 00021: val_acc did not improve\n",
      "19/19 [==============================] - 20s - loss: 0.5532 - acc: 0.7722 - val_loss: 0.6847 - val_acc: 0.7723\n",
      "Epoch 23/25\n",
      "18/19 [===========================>..] - ETA: 0s - loss: 0.5758 - acc: 0.7595Epoch 00022: val_acc improved from 0.80184 to 0.82028, saving model to cars_classification_best.hdf5\n",
      "19/19 [==============================] - 21s - loss: 0.5769 - acc: 0.7609 - val_loss: 0.5397 - val_acc: 0.8203\n",
      "Epoch 24/25\n",
      "18/19 [===========================>..] - ETA: 0s - loss: 0.5623 - acc: 0.7619Epoch 00023: val_acc did not improve\n",
      "19/19 [==============================] - 20s - loss: 0.5771 - acc: 0.7556 - val_loss: 0.5769 - val_acc: 0.7902\n",
      "Epoch 25/25\n",
      "18/19 [===========================>..] - ETA: 0s - loss: 0.5281 - acc: 0.7714Epoch 00024: val_acc did not improve\n",
      "19/19 [==============================] - 20s - loss: 0.5291 - acc: 0.7707 - val_loss: 0.5188 - val_acc: 0.7788\n"
     ]
    }
   ],
   "source": [
    "epochs = 25\n",
    "minibatch_size = 70\n",
    "\n",
    "train_steps = math.ceil(len(train_indices) / minibatch_size)\n",
    "test_steps = math.ceil(len(test_indices) / minibatch_size)\n",
    "\n",
    "checkpoint = ModelCheckpoint('cars_classification_best.hdf5', monitor='val_acc', verbose=1, save_best_only=True, mode='max')\n",
    "\n",
    "# fine-tune the model\n",
    "history = new_model.fit_generator(\n",
    "    image_generator(train_indices, minibatch_size),\n",
    "    steps_per_epoch=train_steps,\n",
    "    epochs=epochs,\n",
    "    validation_data=image_generator(test_indices, minibatch_size),\n",
    "    nb_val_samples=test_steps,\n",
    "    callbacks=[checkpoint])\n",
    "# new_model.save('cars_classification_best.hdf5')"
   ]
  },
  {
   "cell_type": "code",
   "execution_count": 93,
   "metadata": {
    "collapsed": false
   },
   "outputs": [
    {
     "name": "stdout",
     "output_type": "stream",
     "text": [
      "dict_keys(['val_loss', 'val_acc', 'loss', 'acc'])\n"
     ]
    },
    {
     "data": {
      "image/png": "[encoded data removed]",
      "text/plain": [
       "<matplotlib.figure.Figure at 0x7f962371e668>"
      ]
     },
     "metadata": {},
     "output_type": "display_data"
    }
   ],
   "source": [
    "print(history.history.keys())\n",
    "plt.plot(history.history['loss'])\n",
    "plt.plot(history.history['val_loss'])\n",
    "plt.title('Model Loss')\n",
    "plt.ylabel('Loss')\n",
    "plt.xlabel('Epoch')\n",
    "plt.legend(['train', 'test'], loc='upper right')\n",
    "plt.show()"
   ]
  },
  {
   "cell_type": "code",
   "execution_count": 8,
   "metadata": {
    "collapsed": false
   },
   "outputs": [],
   "source": [
    "from keras.models import load_model\n",
    "new_model = load_model('../datasets/cars_classification_best.hdf5')"
   ]
  },
  {
   "cell_type": "code",
   "execution_count": 11,
   "metadata": {
    "collapsed": false
   },
   "outputs": [],
   "source": [
    "true_label = []\n",
    "predicted_label = []\n",
    "for index in test_indices:\n",
    "    msrp = prices[index]\n",
    "    true_label.append(str(msrp))\n",
    "    \n",
    "    path = image_paths[index]\n",
    "    img = image.load_img(path, target_size=(224, 224))\n",
    "    data = np.expand_dims(image.img_to_array(img), axis=0)\n",
    "    data = preprocess_input(data)\n",
    "    \n",
    "    # Prediction outputs softmax vector\n",
    "    prediction = new_model.predict(data)\n",
    "    \n",
    "    # Set most confident prediction as label, and convert it to our price scale\n",
    "    label = np.argmax(prediction) * 20 + 20\n",
    "    predicted_label.append(str(label))"
   ]
  },
  {
   "cell_type": "code",
   "execution_count": 12,
   "metadata": {
    "collapsed": false
   },
   "outputs": [
    {
     "name": "stdout",
     "output_type": "stream",
     "text": [
      "Classification report:\n",
      "             precision    recall  f1-score   support\n",
      "\n",
      "        100       0.85      0.97      0.90        29\n",
      "         20       0.87      0.94      0.91        36\n",
      "         40       0.76      0.82      0.79        34\n",
      "         60       0.81      0.52      0.63        25\n",
      "         80       0.82      0.78      0.80        23\n",
      "\n",
      "avg / total       0.82      0.82      0.82       147\n",
      "\n",
      "\n",
      "Confusion matrix:\n",
      "[[28  0  0  0  1]\n",
      " [ 0 34  2  0  0]\n",
      " [ 0  3 28  2  1]\n",
      " [ 2  1  7 13  2]\n",
      " [ 3  1  0  1 18]]\n"
     ]
    }
   ],
   "source": [
    "from sklearn.metrics import confusion_matrix, classification_report\n",
    "print(\"Classification report:\\n%s\\n\"\n",
    "      % (classification_report(true_label, predicted_label)))\n",
    "print(\"Confusion matrix:\\n%s\" % confusion_matrix(true_label, predicted_label))"
   ]
  },
  {
   "cell_type": "code",
   "execution_count": null,
   "metadata": {
    "collapsed": true
   },
   "outputs": [],
   "source": []
  }
 ],
 "metadata": {
  "kernelspec": {
   "display_name": "Python 3",
   "language": "python",
   "name": "python3"
  },
  "language_info": {
   "codemirror_mode": {
    "name": "ipython",
    "version": 3
   },
   "file_extension": ".py",
   "mimetype": "text/x-python",
   "name": "python",
   "nbconvert_exporter": "python",
   "pygments_lexer": "ipython3",
   "version": "3.6.3"
  }
 },
 "nbformat": 4,
 "nbformat_minor": 2
}
