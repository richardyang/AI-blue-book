{
 "cells": [
  {
   "cell_type": "markdown",
   "metadata": {},
   "source": [
    "## Linear Regression with HOG Features\n",
    "\n",
    "This notebook contains our linear regression model for price prediction on the Bikes dataset.\n",
    "\n",
    "We generate histogram of oriented gradients (HOG) features using the VGG-16 network, and reduce their dimensionality using PCA.\n",
    "\n",
    "We then train linear regression on the training set, and report evaluation metrics on the test set."
   ]
  },
  {
   "cell_type": "markdown",
   "metadata": {},
   "source": [
    "### Imports"
   ]
  },
  {
   "cell_type": "code",
   "execution_count": 4,
   "metadata": {},
   "outputs": [],
   "source": [
    "from sklearn.decomposition import PCA\n",
    "\n",
    "import numpy as np\n",
    "from sklearn import datasets, linear_model\n",
    "from sklearn.metrics import mean_absolute_error, mean_squared_error, r2_score\n",
    "\n",
    "import numpy as np\n",
    "import tensorflow as tf\n",
    "import csv\n",
    "\n",
    "from matplotlib.image import imread\n",
    "import matplotlib.pyplot as plt\n",
    "%matplotlib inline"
   ]
  },
  {
   "cell_type": "markdown",
   "metadata": {},
   "source": [
    "### Extract and Save Features\n",
    "\n",
    "We run the dataset through VGG-16, extracting the activations of the last feature layer as our high-dimensional feature vectors. We then reduce the dimensionality using PCA."
   ]
  },
  {
   "cell_type": "code",
   "execution_count": 5,
   "metadata": {},
   "outputs": [],
   "source": [
    "im_inds = []\n",
    "im_names = []\n",
    "im_prices = np.zeros(21843)\n",
    "with open('../datasets/bikes_filtered.csv', 'r') as f:\n",
    "        datareader = csv.reader(f)\n",
    "        for i, line in enumerate(datareader):\n",
    "            im_inds.append(line[0])\n",
    "            im_names.append(line[1])\n",
    "            im_prices[i] = int(line[2])"
   ]
  },
  {
   "cell_type": "code",
   "execution_count": null,
   "metadata": {
    "collapsed": true
   },
   "outputs": [],
   "source": [
    "from skimage.feature import hog\n",
    "\n",
    "for i in range(0, len(im_inds)):\n",
    "    #print(i)\n",
    "    im_ind = im_inds[i]\n",
    "    image_file = '../datasets/bikes_im/' + str(im_ind) + '.jpg'\n",
    "    curr_im = color.rgb2gray(imread(image_file))\n",
    "    resized_im = resize(curr_im, (224,224))\n",
    "    images.append(resized_im)\n",
    "    \n",
    "    if i % 1000 == 0:\n",
    "        print(i)\n",
    "\n",
    "hog_array = np.zeros((len(images), 224*224))\n",
    "print(\"hogarray\")\n",
    "print(hog_array)\n",
    "\n",
    "for i, image in enumerate(images):\n",
    "    fd, hog_image = hog(image, orientations=8, pixels_per_cell=(32, 32),\n",
    "                        cells_per_block=(1, 1), visualise=True, block_norm='L2-Hys')\n",
    "    flattened_len = int(hog_image.shape[0]) * int(hog_image.shape[1])\n",
    "    pixels = np.reshape(hog_image, (-1, flattened_len))\n",
    "    hog_array[i, :] = pixels\n",
    "    \n",
    "    if i % 1000 == 0:\n",
    "        print(i)\n",
    "\n",
    "pca = PCA(n_components=2)\n",
    "pca.fit(hog_array)\n",
    "hog_images_compressed = pca.transform(hog_array)\n",
    "print(hog_images_compressed)\n",
    "\n",
    "pca = PCA(n_components=200)\n",
    "pca.fit(hog_array)\n",
    "hog_images_compressed = pca.transform(hog_array)\n",
    "\n",
    "np.save(\"linreg_hog_pca_features\", hog_images_compressed)\n",
    "np.save(\"linreg_hog_pca_components\", pca.components_)"
   ]
  },
  {
   "cell_type": "markdown",
   "metadata": {},
   "source": [
    "### Linear Regression using HOG Features\n",
    "\n",
    "We train linear regression on the PCA-processed HOG features on our training split, then evaluate on the test split.\n",
    "\n",
    "We report three different metrics: MSE (mean squared error), MAE (mean absolute error), and R^2 (coefficient of determination)"
   ]
  },
  {
   "cell_type": "code",
   "execution_count": 7,
   "metadata": {},
   "outputs": [
    {
     "name": "stdout",
     "output_type": "stream",
     "text": [
      "Mean squared error: 1625602.51\n",
      "Mean absolute error: 833.02\n",
      "Coefficient of determination: 0.50\n"
     ]
    }
   ],
   "source": [
    "# Load training and eval data\n",
    "cnn_feats_compressed = np.load(\"linreg_hog_pca_features.npy\")\n",
    "\n",
    "train_inds = np.load('bikes_train_indices.npy')\n",
    "test_inds = np.load('bikes_test_indices.npy')\n",
    "\n",
    "train_data = cnn_feats_compressed[train_inds]\n",
    "train_labels = im_prices[train_inds]\n",
    "\n",
    "test_data = cnn_feats_compressed[test_inds]\n",
    "test_labels = im_prices[test_inds]\n",
    "\n",
    "\n",
    "regr = linear_model.LinearRegression()\n",
    "\n",
    "regr.fit(train_data, train_labels)\n",
    "\n",
    "predicted = regr.predict(test_data)\n",
    "\n",
    "# Metrics\n",
    "MSE = mean_squared_error(test_labels, predicted)\n",
    "MAE = mean_absolute_error(test_labels, predicted)\n",
    "R2 = r2_score(test_labels, predicted)\n",
    "\n",
    "print(\"Mean squared error: %.2f\" % MSE)\n",
    "print(\"Mean absolute error: %.2f\" % MAE)\n",
    "print('Coefficient of determination: %.2f' % R2)"
   ]
  },
  {
   "cell_type": "code",
   "execution_count": 8,
   "metadata": {
    "collapsed": true
   },
   "outputs": [],
   "source": [
    "error = []\n",
    "for a,b in zip(test_labels, predicted):\n",
    "    error.append((np.absolute(a-b),a,b))\n",
    "error.sort(key=lambda x: x[0])\n",
    "\n",
    "error_x = range(len(error))\n",
    "error_val = []\n",
    "error_y_label = []\n",
    "error_y_pred = []\n",
    "for e in error:\n",
    "    error_val.append(e[0])\n",
    "    error_y_label.append(e[1])\n",
    "    error_y_pred.append(e[2])"
   ]
  },
  {
   "cell_type": "code",
   "execution_count": 10,
   "metadata": {},
   "outputs": [
    {
     "data": {
      "text/plain": [
       "Text(0,0.5,'Absolute Error')"
      ]
     },
     "execution_count": 10,
     "metadata": {},
     "output_type": "execute_result"
    },
    {
     "data": {
      "image/png": "[encoded data removed]",
      "text/plain": [
       "<matplotlib.figure.Figure at 0x20870baeac8>"
      ]
     },
     "metadata": {},
     "output_type": "display_data"
    }
   ],
   "source": [
    "plt.scatter(error_x, error_val,  color='blue', s=0.01)\n",
    "plt.xlabel('Test Examples')\n",
    "plt.ylabel('Absolute Error')"
   ]
  },
  {
   "cell_type": "code",
   "execution_count": null,
   "metadata": {
    "collapsed": true
   },
   "outputs": [],
   "source": []
  }
 ],
 "metadata": {
  "kernelspec": {
   "display_name": "Python 3",
   "language": "python",
   "name": "python3"
  },
  "language_info": {
   "codemirror_mode": {
    "name": "ipython",
    "version": 3
   },
   "file_extension": ".py",
   "mimetype": "text/x-python",
   "name": "python",
   "nbconvert_exporter": "python",
   "pygments_lexer": "ipython3",
   "version": "3.6.3"
  }
 },
 "nbformat": 4,
 "nbformat_minor": 2
}
