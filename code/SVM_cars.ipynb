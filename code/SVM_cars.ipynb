{
 "cells": [
  {
   "cell_type": "code",
   "execution_count": 2,
   "metadata": {},
   "outputs": [],
   "source": [
    "import yaml\n",
    "import csv\n",
    "from sklearn import svm, metrics\n",
    "from sklearn.model_selection import train_test_split\n",
    "import numpy as np\n"
   ]
  },
  {
   "cell_type": "code",
   "execution_count": 13,
   "metadata": {},
   "outputs": [
    {
     "name": "stdout",
     "output_type": "stream",
     "text": [
      "(1478, 256)\n"
     ]
    }
   ],
   "source": [
    "data_path = \"../datasets/cars_im/\"\n",
    "\n",
    "im_inds = []\n",
    "im_names = []\n",
    "im_prices = []\n",
    "im_labels = []\n",
    "with open('../datasets/cars_classified.csv', 'r') as f:\n",
    "        datareader = csv.reader(f)\n",
    "        for line in datareader:\n",
    "            im_inds.append(line[0])\n",
    "            im_names.append(line[2])\n",
    "            im_prices.append(line[3])\n",
    "            im_labels.append(line[4])\n",
    "\n",
    "data_cnn_features = np.load(\"car_linreg_cnn_pca_features.npy\")\n",
    "print(data_cnn_features.shape)"
   ]
  },
  {
   "cell_type": "code",
   "execution_count": null,
   "metadata": {},
   "outputs": [],
   "source": [
    "'''\n",
    "#Depreciated, using new bikes_classified CSV now\n",
    "data_labels = []\n",
    "thresholds = {\"cheap\": 0, \"average\": 500, \"expensive\":1000}\n",
    "for i in im_prices:\n",
    "    label = \"\"\n",
    "    for value, key in sorted(((v,k) for k,v in thresholds.items())):\n",
    "        if (float(i)-float(value)) < 0:\n",
    "            continue\n",
    "        label = key\n",
    "    data_labels.append(label)\n",
    "'''"
   ]
  },
  {
   "cell_type": "code",
   "execution_count": 14,
   "metadata": {},
   "outputs": [
    {
     "name": "stdout",
     "output_type": "stream",
     "text": [
      "(1330,)\n",
      "(147,)\n"
     ]
    }
   ],
   "source": [
    "# Use same train-test split as other models\n",
    "train_indices = np.load(\"cars_train_indices.npy\")\n",
    "test_indices = np.load(\"cars_test_indices.npy\")\n",
    "print(train_indices.shape)\n",
    "print(test_indices.shape)"
   ]
  },
  {
   "cell_type": "code",
   "execution_count": 16,
   "metadata": {},
   "outputs": [],
   "source": [
    "features_train = data_cnn_features[train_indices]\n",
    "features_test = data_cnn_features[test_indices]\n",
    "labels = np.array(im_labels)\n",
    "labels_train = labels[train_indices]\n",
    "labels_test = labels[test_indices]"
   ]
  },
  {
   "cell_type": "code",
   "execution_count": 17,
   "metadata": {},
   "outputs": [
    {
     "data": {
      "text/plain": [
       "SVC(C=1.0, cache_size=200, class_weight=None, coef0=0.0,\n",
       "  decision_function_shape='ovr', degree=3, gamma=0.001, kernel='rbf',\n",
       "  max_iter=-1, probability=False, random_state=None, shrinking=True,\n",
       "  tol=0.001, verbose=False)"
      ]
     },
     "execution_count": 17,
     "metadata": {},
     "output_type": "execute_result"
    }
   ],
   "source": [
    "classifier = svm.SVC(gamma=0.001)\n",
    "classifier.fit(features_train, labels_train)"
   ]
  },
  {
   "cell_type": "code",
   "execution_count": 18,
   "metadata": {},
   "outputs": [],
   "source": [
    "predictions = classifier.predict(features_test)"
   ]
  },
  {
   "cell_type": "code",
   "execution_count": 19,
   "metadata": {},
   "outputs": [
    {
     "name": "stdout",
     "output_type": "stream",
     "text": [
      "Classification report:\n",
      "             precision    recall  f1-score   support\n",
      "\n",
      "        100       0.87      0.93      0.90        29\n",
      "         20       0.97      0.81      0.88        36\n",
      "         40       0.69      0.91      0.78        34\n",
      "         60       0.71      0.60      0.65        25\n",
      "         80       0.90      0.78      0.84        23\n",
      "\n",
      "avg / total       0.83      0.82      0.82       147\n",
      "\n",
      "\n",
      "Confusion matrix:\n",
      "[[27  0  1  1  0]\n",
      " [ 0 29  6  1  0]\n",
      " [ 0  1 31  2  0]\n",
      " [ 1  0  7 15  2]\n",
      " [ 3  0  0  2 18]]\n"
     ]
    }
   ],
   "source": [
    "print(\"Classification report:\\n%s\\n\"\n",
    "      % (metrics.classification_report(labels_test, predictions)))\n",
    "print(\"Confusion matrix:\\n%s\" % metrics.confusion_matrix(labels_test, predictions))"
   ]
  }
 ],
 "metadata": {
  "kernelspec": {
   "display_name": "Python 3",
   "language": "python",
   "name": "python3"
  },
  "language_info": {
   "codemirror_mode": {
    "name": "ipython",
    "version": 3
   },
   "file_extension": ".py",
   "mimetype": "text/x-python",
   "name": "python",
   "nbconvert_exporter": "python",
   "pygments_lexer": "ipython3",
   "version": "3.5.4"
  }
 },
 "nbformat": 4,
 "nbformat_minor": 2
}
