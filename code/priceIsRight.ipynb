{
 "cells": [
  {
   "cell_type": "code",
   "execution_count": 1,
   "metadata": {},
   "outputs": [],
   "source": [
    "from matplotlib.image import imread\n",
    "import matplotlib.pyplot as plt\n",
    "%matplotlib inline\n",
    "from sklearn import datasets\n",
    "\n",
    "from skimage.feature import hog\n",
    "from skimage import data as skim_data \n",
    "from skimage import color, exposure\n",
    "from sklearn.decomposition import PCA\n",
    "\n",
    "###########################################\n",
    "\n",
    "import numpy as np\n",
    "from sklearn import datasets, linear_model\n",
    "from sklearn.metrics import mean_squared_error, r2_score\n",
    "\n",
    "###########################################\n",
    "\n",
    "# Imports\n",
    "import numpy as np\n",
    "import tensorflow as tf\n",
    "import csv\n",
    "\n",
    "######################################\n",
    "from skimage import data, io, color, exposure\n",
    "from skimage.transform import resize, rescale, rotate, setup, warp, AffineTransform"
   ]
  },
  {
   "cell_type": "code",
   "execution_count": 6,
   "metadata": {},
   "outputs": [],
   "source": [
    "im_inds = []\n",
    "im_names = []\n",
    "im_prices = []\n",
    "with open('../datasets/bikes_filtered.csv', 'r') as f:\n",
    "        datareader = csv.reader(f)\n",
    "        for line in datareader:\n",
    "            im_inds.append(line[0])\n",
    "            im_names.append(line[1])\n",
    "            im_prices.append(line[2])\n",
    "            \n",
    "images = []"
   ]
  },
  {
   "cell_type": "code",
   "execution_count": null,
   "metadata": {},
   "outputs": [],
   "source": [
    "\n",
    "\n",
    "for i in range(0, len(im_inds)):\n",
    "    #print(i)\n",
    "    im_ind = im_inds[i]\n",
    "    image_file = '../datasets/bikes_im/' + str(im_ind) + '.jpg'\n",
    "    curr_im = color.rgb2gray(imread(image_file))\n",
    "    resized_im = resize(curr_im, (224,224))\n",
    "    images.append(resized_im)\n",
    "    \n",
    "    if i % 1000 == 0:\n",
    "        print(i)\n",
    "    \n",
    "#reize 224x224\n",
    "\n",
    "#images.append(color.rgb2gray(skim_data.astronaut()))\n",
    "#images.append(color.rgb2gray(skim_data.camera()))\n",
    "\n",
    "hog_array = np.zeros((len(images), 224*224))\n",
    "print(\"hogarray\")\n",
    "print(hog_array)\n",
    "\n",
    "for i, image in enumerate(images):\n",
    "    fd, hog_image = hog(image, orientations=8, pixels_per_cell=(32, 32),\n",
    "                        cells_per_block=(1, 1), visualise=True, block_norm='L2-Hys')\n",
    "    flattened_len = int(hog_image.shape[0]) * int(hog_image.shape[1])\n",
    "    pixels = np.reshape(hog_image, (-1, flattened_len))\n",
    "    hog_array[i, :] = pixels\n",
    "    \n",
    "    if i % 1000 == 0:\n",
    "        print(i)\n",
    "\n",
    "pca = PCA(n_components=2)\n",
    "pca.fit(hog_array)\n",
    "hog_images_compressed = pca.transform(hog_array)\n",
    "print(\"hog_images_compressed\")\n",
    "print(hog_images_compressed)\n",
    "#flatten\n",
    "\n"
   ]
  },
  {
   "cell_type": "code",
   "execution_count": null,
   "metadata": {},
   "outputs": [],
   "source": [
    "pca = PCA(n_components=200)\n",
    "pca.fit(hog_array)\n",
    "hog_images_compressed = pca.transform(hog_array)"
   ]
  },
  {
   "cell_type": "code",
   "execution_count": null,
   "metadata": {},
   "outputs": [],
   "source": [
    "print(hog_images_compressed.shape)\n",
    "print(pca.components_.shape)"
   ]
  },
  {
   "cell_type": "code",
   "execution_count": null,
   "metadata": {},
   "outputs": [],
   "source": [
    "np.save(\"hog_images_compressed\", hog_images_compressed)\n",
    "np.save(\"pca_components\", pca.components_)"
   ]
  },
  {
   "cell_type": "code",
   "execution_count": 9,
   "metadata": {},
   "outputs": [
    {
     "name": "stdout",
     "output_type": "stream",
     "text": [
      "Coefficients: \n",
      " [  1.29794125e+03  -2.01779110e+03   5.74803155e+02   8.15958123e+02\n",
      "   7.66170572e+02   1.62928340e+03   1.95924334e+03   4.43651196e+03\n",
      "  -4.18825413e+03   4.66595761e+03  -9.89626066e+02  -2.07047582e+03\n",
      "   4.17181129e+03  -2.53965544e+03   3.11003377e+03  -1.61391971e+03\n",
      "  -3.39060359e+02   3.64501417e+03   3.44229932e+02   2.96790431e+03\n",
      "  -1.32882603e+03   2.48665422e+03   3.28933370e+03  -1.36871805e+03\n",
      "   5.53621521e+03  -1.11996856e+03  -1.49986361e+03  -5.44163093e+02\n",
      "  -8.78571611e+02  -2.95731782e+03  -3.37539258e+02  -2.76124530e+03\n",
      "  -1.27702641e+03  -5.49959927e+01   4.45859075e+03  -1.03766074e+03\n",
      "   1.88849521e+02  -1.80512227e+03  -8.91138262e+02   4.04075495e+03\n",
      "   1.76988685e+03  -1.35727625e+03  -2.52441100e+03  -2.48631681e+03\n",
      "   9.75168550e+02   1.48142192e+03   5.05105303e+03  -2.71420753e+03\n",
      "  -6.64742374e+02  -2.34504451e+03   1.63882391e+03  -1.93294149e+03\n",
      "   7.46419401e+02  -2.32615615e+03   2.28651860e+03  -1.15619142e+03\n",
      "  -2.32937170e+03   6.88432372e+02   1.20972027e+03   6.72250773e+03\n",
      "   1.18779609e+03  -1.23991253e+03  -3.09094805e+03   1.63547374e+03\n",
      "   3.57909573e+01  -1.69448302e+03  -1.50885592e+03  -2.58277946e+02\n",
      "   1.62756585e+03   7.43542351e+02   3.05282460e+02  -1.79468224e+02\n",
      "  -8.03325726e+01  -8.92455123e+01  -1.24337202e+03  -2.49978868e+03\n",
      "  -8.53284246e+02   1.09154639e+03   1.50351300e+03   1.37389443e+03\n",
      "  -7.94446369e+02  -1.90105912e+03   2.37132419e+03   3.12135342e+03\n",
      "  -4.11450005e+03   1.02800836e+03   3.89455155e+03   2.17356915e+03\n",
      "   6.49329992e+02  -5.41692379e+02   1.15682442e+03  -3.78795501e+02\n",
      "   8.07055459e+02  -7.51318241e+02   1.35327778e+03  -8.99030025e+01\n",
      "  -1.53362754e+03  -3.08750340e+02   3.14253639e+02   2.32850996e+03\n",
      "   1.40586084e+03   1.97850746e+03  -2.56878720e+03   2.43847240e+02\n",
      "  -6.15899184e+02   3.75595303e+03   1.23616672e+02  -7.87007955e+02\n",
      "   2.07209136e+03   7.72015050e+02   9.42924376e+02  -3.58393053e+03\n",
      "   1.35032003e+03  -3.87706967e+03   2.10648262e+03  -4.51914734e+02\n",
      "   9.07223594e+02   1.08724806e+03  -1.43608060e+03   2.40171052e+02\n",
      "   8.38467795e+02   4.80019547e+03   1.57313605e+03  -6.48596526e+02\n",
      "  -1.43128612e+03  -2.54091244e+03  -4.27170873e+03  -1.49056687e+03\n",
      "   2.29593986e+03  -1.44395549e+03  -5.59544212e+02  -1.16522744e+03\n",
      "   1.59001382e+02   3.35369893e+03  -3.50451058e+02   9.58891375e+02\n",
      "  -3.02410407e+03   1.05595218e+03   1.43549464e+03   1.30049064e+02\n",
      "  -2.81527530e+03  -4.01495287e+02   2.09428574e+03  -2.82665182e+03\n",
      "  -3.11415100e+03   2.00125495e+03   7.82266574e+02   1.97517526e+03\n",
      "  -1.63326957e+03   2.87181295e+03   3.70088703e+03   6.27435661e+02\n",
      "  -1.09800545e+03   2.00941729e+03  -6.24763384e+02  -4.32937655e+03\n",
      "   2.01614276e+02   3.13127436e+02   2.99171154e+03   1.97144691e+03\n",
      "   1.26844532e+03   4.94637321e+02  -2.71251241e+03   5.45512575e+02\n",
      "  -2.04314372e+03   3.51277078e+03   1.43284154e+03   4.46933681e+03\n",
      "   2.04580372e+03  -2.78456008e+03   7.69322703e+03   2.54452467e+03\n",
      "  -2.53309189e+03  -3.49384113e+03   1.83555275e+03   6.26189054e+02\n",
      "  -4.61248889e+03   1.63492417e+03   2.75623137e+02  -3.29370730e+00\n",
      "   2.04132566e+02   2.97745984e+03  -8.53329653e+02   2.17268343e+03\n",
      "   5.27125618e+03   1.53261495e+03  -2.58256752e+03  -2.56616756e+03\n",
      "   1.61094447e+03   1.13527560e+03  -9.28675692e+02   1.97847084e+03\n",
      "   3.66714948e+03  -4.61108255e+03  -4.72161895e+02  -1.90820690e+03\n",
      "  -3.82337852e+03   2.22872991e+03   7.40986739e+01  -1.86261836e+03]\n",
      "Mean squared error: 1615962.86\n",
      "Variance score: 0.50\n"
     ]
    }
   ],
   "source": [
    "# Load training and eval data\n",
    "hog_images_compressed = np.load(\"hog_images_compressed.npy\")\n",
    "pca_components_ = np.load(\"pca_components.npy\")\n",
    "train_data = hog_images_compressed\n",
    "im_prices_int = []\n",
    "for i in im_prices:\n",
    "    im_prices_int.append(int(i))\n",
    "train_labels = im_prices_int\n",
    "\n",
    "\n",
    "regr = linear_model.LinearRegression()\n",
    "\n",
    "regr.fit(train_data, train_labels)\n",
    "\n",
    "label_pred = regr.predict(train_data)\n",
    "\n",
    "for a,b in zip(train_labels, label_pred):\n",
    "    print(a,b)\n",
    "\n",
    "print('Coefficients: \\n', regr.coef_)\n",
    "# The mean squared error\n",
    "print(\"Mean squared error: %.2f\"\n",
    "      % mean_squared_error(label_pred, train_labels))\n",
    "# Explained variance score: 1 is perfect prediction\n",
    "print('Variance score: %.2f' % r2_score(train_labels, label_pred))"
   ]
  },
  {
   "cell_type": "markdown",
   "metadata": {
    "collapsed": true
   },
   "source": [
    "Mean squared error: 1615704.96\n",
    "Variance score: 0.50"
   ]
  },
  {
   "cell_type": "code",
   "execution_count": 24,
   "metadata": {},
   "outputs": [],
   "source": [
    "error = []\n",
    "for a,b in zip(train_labels, label_pred):\n",
    "    error.append((np.absolute(a-b),a,b))\n",
    "error.sort(key=lambda x: x[0])\n",
    "\n",
    "error_x = range(len(error))\n",
    "error_val = []\n",
    "error_y_label = []\n",
    "error_y_pred = []\n",
    "for e in error:\n",
    "    error_val.append(e[0])\n",
    "    error_y_label.append(e[1])\n",
    "    error_y_pred.append(e[2])"
   ]
  },
  {
   "cell_type": "code",
   "execution_count": 28,
   "metadata": {},
   "outputs": [
    {
     "data": {
      "text/plain": [
       "Text(0,0.5,'Error')"
      ]
     },
     "execution_count": 28,
     "metadata": {},
     "output_type": "execute_result"
    },
    {
     "data": {
      "image/png": "[encoded data removed]",
      "text/plain": [
       "<matplotlib.figure.Figure at 0x29aa0f958d0>"
      ]
     },
     "metadata": {},
     "output_type": "display_data"
    }
   ],
   "source": [
    "plt.scatter(error_x, error_val,  color='blue', s=0.01)\n",
    "plt.xlabel('Training Example')\n",
    "plt.ylabel('Error')"
   ]
  }
 ],
 "metadata": {
  "kernelspec": {
   "display_name": "Python 3",
   "language": "python",
   "name": "python3"
  },
  "language_info": {
   "codemirror_mode": {
    "name": "ipython",
    "version": 3
   },
   "file_extension": ".py",
   "mimetype": "text/x-python",
   "name": "python",
   "nbconvert_exporter": "python",
   "pygments_lexer": "ipython3",
   "version": "3.6.3"
  }
 },
 "nbformat": 4,
 "nbformat_minor": 2
}
