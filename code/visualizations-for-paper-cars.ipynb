{
 "cells": [
  {
   "cell_type": "code",
   "execution_count": 1,
   "metadata": {
    "scrolled": false
   },
   "outputs": [
    {
     "name": "stderr",
     "output_type": "stream",
     "text": [
      "Using TensorFlow backend.\n"
     ]
    }
   ],
   "source": [
    "from keras.applications import VGG16\n",
    "from keras.models import load_model\n",
    "from vis.utils import utils\n",
    "from keras import activations"
   ]
  },
  {
   "cell_type": "code",
   "execution_count": 2,
   "metadata": {},
   "outputs": [],
   "source": [
    "# Load our model\n",
    "model = load_model('../datasets/cars_classification_best.hdf5')\n",
    "#print(model.summary())"
   ]
  },
  {
   "cell_type": "code",
   "execution_count": 3,
   "metadata": {},
   "outputs": [
    {
     "name": "stdout",
     "output_type": "stream",
     "text": [
      "22\n"
     ]
    }
   ],
   "source": [
    "# Get the layer id we want to visualize from its name\n",
    "layer_name = 'output'\n",
    "layer_idx = utils.find_layer_idx(model, layer_name)\n",
    "print(layer_idx)"
   ]
  },
  {
   "cell_type": "code",
   "execution_count": 4,
   "metadata": {},
   "outputs": [],
   "source": [
    "import os\n",
    "from keras.models import load_model\n",
    "\n",
    "# Taken from vis package's util file and modified to work with Windows directory structure\n",
    "def apply_modifications(model):\n",
    "    \"\"\"Applies modifications to the model layers to create a new Graph. For example, simply changing\n",
    "    `model.layers[idx].activation = new activation` does not change the graph. The entire graph needs to be updated\n",
    "    with modified inbound and outbound tensors because of change in layer building function.\n",
    "\n",
    "    Args:\n",
    "        model: The `keras.models.Model` instance.\n",
    "\n",
    "    Returns:\n",
    "        The modified model with changes applied. Does not mutate the original `model`.\n",
    "    \"\"\"\n",
    "    # The strategy is to save the modified model and load it back. This is done because setting the activation\n",
    "    # in a Keras layer doesnt actually change the graph. We have to iterate the entire graph and change the\n",
    "    # layer inbound and outbound nodes with modified tensors. This is doubly complicated in Keras 2.x since\n",
    "    # multiple inbound and outbound nodes are allowed with the Graph API.\n",
    "    model_path = 'C:/Users/Richard/AppData/Local/Temp/temp.h5'\n",
    "    try:\n",
    "        model.save(model_path)\n",
    "        return load_model(model_path)\n",
    "    finally:\n",
    "        os.remove(model_path)\n",
    "        \n",
    "# Swap softmax with linear\n",
    "model.layers[layer_idx].activation = activations.linear\n",
    "model = apply_modifications(model)"
   ]
  },
  {
   "cell_type": "markdown",
   "metadata": {},
   "source": [
    "# Visualize saliency map and CAM"
   ]
  },
  {
   "cell_type": "code",
   "execution_count": 5,
   "metadata": {},
   "outputs": [],
   "source": [
    "from matplotlib import pyplot as plt\n",
    "%matplotlib inline\n",
    "from vis.visualization import visualize_saliency, visualize_cam, overlay\n",
    "from vis.utils import utils\n",
    "from keras import activations\n",
    "import numpy as np\n",
    "\n",
    "plt.rcParams['figure.figsize'] = (18, 6)\n",
    "\n",
    "# A demo image from each class\n",
    "# Original images, IDs: 1426, 1362, 1392, 82, 962\n",
    "#indices = [\"1\", \"2\", \"5\", \"7\", \"8\", \"9\", \"12\", \"13\", \"15\", \"21\", \"24\", \"30\", \"31\", \"34\", \"44\", \"56\", \"73\", \"76\", \"78\", \"110\", \"111\", \"125\", \"128\", \"130\", \"135\", \"254\", \"277\", \"1214\"]\n",
    "#indices = np.load(\"cars_test_indices.npy\")\n",
    "indices = [\"264\"]\n",
    "imgs = []\n",
    "for c in indices:\n",
    "    img = utils.load_img('../datasets/cars_im/'+str(c)+\".jpg\")\n",
    "    imgs.append(img)\n",
    "    # Reshape it to work with VGG16 \n",
    "    #resized = np.copy(img).resize(3,224,224)\n",
    "    #imgs_resized.append(resized)"
   ]
  },
  {
   "cell_type": "code",
   "execution_count": 6,
   "metadata": {},
   "outputs": [],
   "source": [
    "for j in range(len(indices)):\n",
    "    c = imgs[j]\n",
    "    for i in range(5):\n",
    "        plt.figure()\n",
    "        grads = visualize_saliency(model, layer_idx, filter_indices=i, seed_input=c, backprop_modifier='guided')\n",
    "        stitched = utils.stitch_images([c,grads], margin=0)\n",
    "        plt.axis('off')\n",
    "        plt.imshow(stitched)\n",
    "        plt.savefig(\"../datasets/visualization/carsdemo/saliency/\"+str(indices[j])+\"_\"+str(i)+\".png\")\n",
    "        plt.close()"
   ]
  },
  {
   "cell_type": "code",
   "execution_count": 7,
   "metadata": {},
   "outputs": [],
   "source": [
    "import numpy as np\n",
    "import matplotlib.cm as cm\n",
    "\n",
    "for j in range(len(indices)):\n",
    "    c = imgs[j]\n",
    "    for i in range(4):\n",
    "        plt.figure()\n",
    "        grads = visualize_cam(model, layer_idx, filter_indices=i, seed_input=c, backprop_modifier='guided')        \n",
    "        # Create heatmap and overlay it on the original pic  \n",
    "        jet_heatmap = np.uint8(cm.jet(grads)[..., :3] * 255)\n",
    "        plt.axis('off')\n",
    "        plt.imshow(stitched)\n",
    "        plt.savefig(\"../datasets/visualization/carsdemo/saliency/\"+str(indices[j])+\"_\"+str(i)+\".png\")\n",
    "        plt.close()"
   ]
  }
 ],
 "metadata": {
  "kernelspec": {
   "display_name": "Python 3",
   "language": "python",
   "name": "python3"
  },
  "language_info": {
   "codemirror_mode": {
    "name": "ipython",
    "version": 3
   },
   "file_extension": ".py",
   "mimetype": "text/x-python",
   "name": "python",
   "nbconvert_exporter": "python",
   "pygments_lexer": "ipython3",
   "version": "3.5.4"
  }
 },
 "nbformat": 4,
 "nbformat_minor": 1
}
